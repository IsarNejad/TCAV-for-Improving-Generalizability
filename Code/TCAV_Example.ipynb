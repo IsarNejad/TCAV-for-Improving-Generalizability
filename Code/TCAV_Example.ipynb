{
  "nbformat": 4,
  "nbformat_minor": 0,
  "metadata": {
    "colab": {
      "name": "TCAV Example.ipynb",
      "provenance": [],
      "collapsed_sections": [],
      "machine_shape": "hm"
    },
    "kernelspec": {
      "name": "python3",
      "display_name": "Python 3"
    },
    "accelerator": "GPU"
  },
  "cells": [
    {
      "cell_type": "markdown",
      "metadata": {
        "id": "1Ee4yKYvwjLp"
      },
      "source": [
        "This notebook shows how to calculate the sensitivity of a trained classifier to a human-defined concept (similar to the results in Table 5 of the paper. "
      ]
    },
    {
      "cell_type": "code",
      "metadata": {
        "id": "KPajcHiYYxnt"
      },
      "source": [
        "pip install transformers"
      ],
      "execution_count": null,
      "outputs": []
    },
    {
      "cell_type": "code",
      "metadata": {
        "id": "IfuzEaKBLQbQ"
      },
      "source": [
        "import warnings\n",
        "import pandas as pd\n",
        "import numpy as np\n",
        "np.random.seed(42)\n",
        "warnings.filterwarnings('ignore')\n",
        "warnings.filterwarnings('ignore')\n",
        "%load_ext autoreload\n",
        "\n",
        "%autoreload 2"
      ],
      "execution_count": null,
      "outputs": []
    },
    {
      "cell_type": "code",
      "metadata": {
        "id": "ICrJy_2P3nek"
      },
      "source": [
        "from TCAV import get_preds_tcavs\n"
      ],
      "execution_count": null,
      "outputs": []
    },
    {
      "cell_type": "markdown",
      "metadata": {
        "id": "vZTVMjEY3n1L"
      },
      "source": [
        "#Concept examples"
      ]
    },
    {
      "cell_type": "markdown",
      "source": [
        "Using the [data annotated for explicitness](https://github.com/IsarNejad/TCAV-for-Text-Classifiers/tree/main/Data), create the following text files. Each file include the text of tweets separated by double new lines. "
      ],
      "metadata": {
        "id": "cxfgFoj7NDKy"
      }
    },
    {
      "cell_type": "code",
      "metadata": {
        "id": "4UIYhgfKhMGr"
      },
      "source": [
        "with open(PATH_TO_Data+'data/EA_dev_implicit.txt','r') as f_:\n",
        "  implicit_EA_dev_hate= f_.read().split('\\n\\n')\n",
        "\n",
        "with open(PATH_TO_Data+'data/EA_dev_explicit.txt','r') as f_:\n",
        "  explicit_EA_dev_hate= f_.read().split('\\n\\n')"
      ],
      "execution_count": null,
      "outputs": []
    },
    {
      "cell_type": "code",
      "metadata": {
        "id": "iIiwHxLpZub0"
      },
      "source": [
        "with open(PATH_TO_Data+'data/CH_implicit.txt','r') as f_:\n",
        "  implicit_racism_hate= f_.read().split('\\n\\n')\n",
        "\n",
        "with open('data/CH_explicit.txt','r') as f_:\n",
        "  explicit_racism_hate= f_.read().split('\\n\\n')"
      ],
      "execution_count": null,
      "outputs": []
    },
    {
      "cell_type": "code",
      "metadata": {
        "id": "BSj8EFuyD9jZ"
      },
      "source": [
        "explicit = explicit_EA_dev_hate + [explicit_racism_hate[i] for i in list(np.random.choice(len(explicit_racism_hate),86))]"
      ],
      "execution_count": null,
      "outputs": []
    },
    {
      "cell_type": "code",
      "metadata": {
        "id": "hx4n8JPzERHu"
      },
      "source": [
        "implicit_EA = [implicit_EA_dev_hate[i] for i in list(np.random.choice(len(implicit_EA_dev_hate),100))]"
      ],
      "execution_count": null,
      "outputs": []
    },
    {
      "cell_type": "code",
      "metadata": {
        "id": "EUHEYb56ywkf"
      },
      "source": [
        "implicit_CH = implicit_racism_hate[:100]"
      ],
      "execution_count": null,
      "outputs": []
    },
    {
      "cell_type": "markdown",
      "metadata": {
        "id": "Cp5z39Zz4JYR"
      },
      "source": [
        "#Results "
      ]
    },
    {
      "cell_type": "markdown",
      "source": [
        "The toxicity classifier is a roberta-based binary classifier trained with [Wiki](https://github.com/IsarNejad/cross_dataset_toxicity) dataset, saved at /models/exp-Toxic-roberta. "
      ],
      "metadata": {
        "id": "bVxFrEeeOMGh"
      }
    },
    {
      "cell_type": "code",
      "metadata": {
        "colab": {
          "base_uri": "https://localhost:8080/"
        },
        "id": "a9A_kdvYFT-B",
        "outputId": "1c33accf-e4fa-4cdb-8b2f-c26f5940386a"
      },
      "source": [
        "logits,sensitivity,TCAV = get_preds_tcavs(classifier = 'toxicity',desired_class = 1,examples_set = 'random',concept_examples = explicit,num_runs=1000)"
      ],
      "execution_count": null,
      "outputs": [
        {
          "output_type": "stream",
          "name": "stdout",
          "text": [
            "calculating cavs...\n",
            "logits and grads are saved.\n",
            "TCAV score for the concept: \n",
            "0.9674899999999999 0.16408095227661254\n"
          ]
        }
      ]
    },
    {
      "cell_type": "code",
      "metadata": {
        "colab": {
          "base_uri": "https://localhost:8080/"
        },
        "id": "yYMPN9fCFc9V",
        "outputId": "b6160716-f53e-4521-ca4c-5390b67d99e4"
      },
      "source": [
        "logits,sensitivity,TCAV = get_preds_tcavs(classifier = 'toxicity',desired_class = 1,examples_set = 'random',concept_examples = implicit_EA,num_runs=1000)"
      ],
      "execution_count": null,
      "outputs": [
        {
          "output_type": "stream",
          "name": "stdout",
          "text": [
            "calculating cavs...\n",
            "logits and grads are saved.\n",
            "TCAV score for the concept: \n",
            "0.0 0.0\n"
          ]
        }
      ]
    },
    {
      "cell_type": "code",
      "metadata": {
        "colab": {
          "base_uri": "https://localhost:8080/"
        },
        "id": "R4LbKERazxJt",
        "outputId": "628fc080-8e39-4655-b200-076c3991c267"
      },
      "source": [
        "logits,sensitivity,TCAV = get_preds_tcavs(classifier = 'toxicity',desired_class = 1,examples_set = 'random',concept_examples = implicit_CH,num_runs=1000)"
      ],
      "execution_count": null,
      "outputs": [
        {
          "output_type": "stream",
          "name": "stdout",
          "text": [
            "calculating cavs...\n",
            "logits and grads are saved.\n",
            "TCAV score for the concept: \n",
            "0.324212 0.44756699672339556\n"
          ]
        }
      ]
    }
  ]
}
